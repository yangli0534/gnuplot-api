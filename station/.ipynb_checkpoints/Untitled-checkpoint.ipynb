{
 "cells": [
  {
   "cell_type": "code",
   "execution_count": 1,
   "metadata": {},
   "outputs": [],
   "source": [
    "import pandas as pd"
   ]
  },
  {
   "cell_type": "code",
   "execution_count": 4,
   "metadata": {},
   "outputs": [
    {
     "data": {
      "text/plain": [
       "pandas.core.frame.DataFrame"
      ]
     },
     "execution_count": 4,
     "metadata": {},
     "output_type": "execute_result"
    }
   ],
   "source": [
    "type(data)"
   ]
  },
  {
   "cell_type": "code",
   "execution_count": 7,
   "metadata": {
    "scrolled": true
   },
   "outputs": [
    {
     "name": "stdout",
     "output_type": "stream",
     "text": [
      "    # Channel 1 Unnamed: 1\n",
      "0     Frequency         IL\n",
      "1      3.50E+09  -4.46E+01\n",
      "2      3.50E+09  -4.46E+01\n",
      "3      3.50E+09  -4.47E+01\n",
      "4      3.51E+09  -4.47E+01\n",
      "..          ...        ...\n",
      "197    3.89E+09  -4.44E+01\n",
      "198    3.89E+09  -4.45E+01\n",
      "199    3.90E+09  -4.46E+01\n",
      "200    3.90E+09  -4.45E+01\n",
      "201    3.90E+09  -4.45E+01\n",
      "\n",
      "[202 rows x 2 columns]\n"
     ]
    }
   ],
   "source": [
    "data = pd.read_csv('TX_CABLE_IL.csv',skiprows = [1,2])\n",
    "print(data)"
   ]
  },
  {
   "cell_type": "code",
   "execution_count": 6,
   "metadata": {},
   "outputs": [
    {
     "data": {
      "text/plain": [
       "<bound method NDFrame.describe of     # Channel 1       Unnamed: 1       Unnamed: 2\n",
       "0     Frequency   Formatted Data   Formatted Data\n",
       "1      3.50E+09        -4.46E+01         0.00E+00\n",
       "2      3.50E+09        -4.46E+01         0.00E+00\n",
       "3      3.50E+09        -4.47E+01         0.00E+00\n",
       "4      3.51E+09        -4.47E+01         0.00E+00\n",
       "..          ...              ...              ...\n",
       "197    3.89E+09        -4.44E+01         0.00E+00\n",
       "198    3.89E+09        -4.45E+01         0.00E+00\n",
       "199    3.90E+09        -4.46E+01         0.00E+00\n",
       "200    3.90E+09        -4.45E+01         0.00E+00\n",
       "201    3.90E+09        -4.45E+01         0.00E+00\n",
       "\n",
       "[202 rows x 3 columns]>"
      ]
     },
     "execution_count": 6,
     "metadata": {},
     "output_type": "execute_result"
    }
   ],
   "source": [
    "data.describe"
   ]
  },
  {
   "cell_type": "code",
   "execution_count": null,
   "metadata": {},
   "outputs": [],
   "source": []
  }
 ],
 "metadata": {
  "kernelspec": {
   "display_name": "Python 3",
   "language": "python",
   "name": "python3"
  },
  "language_info": {
   "codemirror_mode": {
    "name": "ipython",
    "version": 3
   },
   "file_extension": ".py",
   "mimetype": "text/x-python",
   "name": "python",
   "nbconvert_exporter": "python",
   "pygments_lexer": "ipython3",
   "version": "3.8.3"
  }
 },
 "nbformat": 4,
 "nbformat_minor": 4
}
